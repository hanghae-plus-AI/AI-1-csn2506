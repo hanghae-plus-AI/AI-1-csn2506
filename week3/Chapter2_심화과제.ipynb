{
  "metadata": {
    "accelerator": "GPU",
    "colab": {
      "gpuType": "T4",
      "provenance": [],
      "name": "Chapter-2-심화과제_csn.ipynb",
      "include_colab_link": true
    },
    "kernelspec": {
      "name": "python3",
      "display_name": "Python 3",
      "language": "python"
    },
    "language_info": {
      "name": "python",
      "version": "3.10.14",
      "mimetype": "text/x-python",
      "codemirror_mode": {
        "name": "ipython",
        "version": 3
      },
      "pygments_lexer": "ipython3",
      "nbconvert_exporter": "python",
      "file_extension": ".py"
    },
    "kaggle": {
      "accelerator": "gpu",
      "dataSources": [],
      "isInternetEnabled": true,
      "language": "python",
      "sourceType": "notebook",
      "isGpuEnabled": true
    }
  },
  "nbformat_minor": 0,
  "nbformat": 4,
  "cells": [
    {
      "cell_type": "markdown",
      "metadata": {
        "id": "view-in-github",
        "colab_type": "text"
      },
      "source": [
        "<a href=\"https://colab.research.google.com/github/hanghae-plus-AI/AI-1-csn2506/blob/main/week3/Chapter2_%EC%8B%AC%ED%99%94%EA%B3%BC%EC%A0%9C.ipynb\" target=\"_parent\"><img src=\"https://colab.research.google.com/assets/colab-badge.svg\" alt=\"Open In Colab\"/></a>"
      ]
    },
    {
      "cell_type": "markdown",
      "source": [
        "# 3주차 심화과제\n",
        "# - GPT로 뉴스 기사 분류 모델 학습하기"
      ],
      "metadata": {
        "id": "sbgz49PvHhLt"
      }
    },
    {
      "cell_type": "code",
      "source": [
        "!pip install tqdm boto3 requests regex sentencepiece sacremoses datasets"
      ],
      "metadata": {
        "colab": {
          "base_uri": "https://localhost:8080/"
        },
        "id": "1LqgujQUbv6X",
        "outputId": "4587c6d0-14ed-47d0-9a25-d3de77db2c06",
        "execution": {
          "iopub.status.busy": "2024-10-02T14:03:09.147063Z",
          "iopub.execute_input": "2024-10-02T14:03:09.147531Z",
          "iopub.status.idle": "2024-10-02T14:03:20.882227Z",
          "shell.execute_reply.started": "2024-10-02T14:03:09.147491Z",
          "shell.execute_reply": "2024-10-02T14:03:20.881179Z"
        },
        "trusted": true
      },
      "execution_count": null,
      "outputs": [
        {
          "name": "stderr",
          "text": "huggingface/tokenizers: The current process just got forked, after parallelism has already been used. Disabling parallelism to avoid deadlocks...\nTo disable this warning, you can either:\n\t- Avoid using `tokenizers` before the fork if possible\n\t- Explicitly set the environment variable TOKENIZERS_PARALLELISM=(true | false)\n",
          "output_type": "stream"
        },
        {
          "name": "stdout",
          "text": "Requirement already satisfied: tqdm in /opt/conda/lib/python3.10/site-packages (4.66.4)\nRequirement already satisfied: boto3 in /opt/conda/lib/python3.10/site-packages (1.26.100)\nRequirement already satisfied: requests in /opt/conda/lib/python3.10/site-packages (2.32.3)\nRequirement already satisfied: regex in /opt/conda/lib/python3.10/site-packages (2024.5.15)\nRequirement already satisfied: sentencepiece in /opt/conda/lib/python3.10/site-packages (0.2.0)\nRequirement already satisfied: sacremoses in /opt/conda/lib/python3.10/site-packages (0.1.1)\nRequirement already satisfied: datasets in /opt/conda/lib/python3.10/site-packages (3.0.0)\nRequirement already satisfied: botocore<1.30.0,>=1.29.100 in /opt/conda/lib/python3.10/site-packages (from boto3) (1.29.165)\nRequirement already satisfied: jmespath<2.0.0,>=0.7.1 in /opt/conda/lib/python3.10/site-packages (from boto3) (1.0.1)\nRequirement already satisfied: s3transfer<0.7.0,>=0.6.0 in /opt/conda/lib/python3.10/site-packages (from boto3) (0.6.2)\nRequirement already satisfied: charset-normalizer<4,>=2 in /opt/conda/lib/python3.10/site-packages (from requests) (3.3.2)\nRequirement already satisfied: idna<4,>=2.5 in /opt/conda/lib/python3.10/site-packages (from requests) (3.7)\nRequirement already satisfied: urllib3<3,>=1.21.1 in /opt/conda/lib/python3.10/site-packages (from requests) (1.26.18)\nRequirement already satisfied: certifi>=2017.4.17 in /opt/conda/lib/python3.10/site-packages (from requests) (2024.8.30)\nRequirement already satisfied: click in /opt/conda/lib/python3.10/site-packages (from sacremoses) (8.1.7)\nRequirement already satisfied: joblib in /opt/conda/lib/python3.10/site-packages (from sacremoses) (1.4.2)\nRequirement already satisfied: filelock in /opt/conda/lib/python3.10/site-packages (from datasets) (3.15.1)\nRequirement already satisfied: numpy>=1.17 in /opt/conda/lib/python3.10/site-packages (from datasets) (1.26.4)\nRequirement already satisfied: pyarrow>=15.0.0 in /opt/conda/lib/python3.10/site-packages (from datasets) (16.1.0)\nRequirement already satisfied: dill<0.3.9,>=0.3.0 in /opt/conda/lib/python3.10/site-packages (from datasets) (0.3.8)\nRequirement already satisfied: pandas in /opt/conda/lib/python3.10/site-packages (from datasets) (2.2.2)\nRequirement already satisfied: xxhash in /opt/conda/lib/python3.10/site-packages (from datasets) (3.4.1)\nRequirement already satisfied: multiprocess in /opt/conda/lib/python3.10/site-packages (from datasets) (0.70.16)\nRequirement already satisfied: fsspec<=2024.6.1,>=2023.1.0 in /opt/conda/lib/python3.10/site-packages (from fsspec[http]<=2024.6.1,>=2023.1.0->datasets) (2024.6.1)\nRequirement already satisfied: aiohttp in /opt/conda/lib/python3.10/site-packages (from datasets) (3.9.5)\nRequirement already satisfied: huggingface-hub>=0.22.0 in /opt/conda/lib/python3.10/site-packages (from datasets) (0.25.0)\nRequirement already satisfied: packaging in /opt/conda/lib/python3.10/site-packages (from datasets) (21.3)\nRequirement already satisfied: pyyaml>=5.1 in /opt/conda/lib/python3.10/site-packages (from datasets) (6.0.2)\nRequirement already satisfied: python-dateutil<3.0.0,>=2.1 in /opt/conda/lib/python3.10/site-packages (from botocore<1.30.0,>=1.29.100->boto3) (2.9.0.post0)\nRequirement already satisfied: aiosignal>=1.1.2 in /opt/conda/lib/python3.10/site-packages (from aiohttp->datasets) (1.3.1)\nRequirement already satisfied: attrs>=17.3.0 in /opt/conda/lib/python3.10/site-packages (from aiohttp->datasets) (23.2.0)\nRequirement already satisfied: frozenlist>=1.1.1 in /opt/conda/lib/python3.10/site-packages (from aiohttp->datasets) (1.4.1)\nRequirement already satisfied: multidict<7.0,>=4.5 in /opt/conda/lib/python3.10/site-packages (from aiohttp->datasets) (6.0.5)\nRequirement already satisfied: yarl<2.0,>=1.0 in /opt/conda/lib/python3.10/site-packages (from aiohttp->datasets) (1.9.4)\nRequirement already satisfied: async-timeout<5.0,>=4.0 in /opt/conda/lib/python3.10/site-packages (from aiohttp->datasets) (4.0.3)\nRequirement already satisfied: typing-extensions>=3.7.4.3 in /opt/conda/lib/python3.10/site-packages (from huggingface-hub>=0.22.0->datasets) (4.12.2)\nRequirement already satisfied: pyparsing!=3.0.5,>=2.0.2 in /opt/conda/lib/python3.10/site-packages (from packaging->datasets) (3.1.2)\nRequirement already satisfied: pytz>=2020.1 in /opt/conda/lib/python3.10/site-packages (from pandas->datasets) (2024.1)\nRequirement already satisfied: tzdata>=2022.7 in /opt/conda/lib/python3.10/site-packages (from pandas->datasets) (2024.1)\nRequirement already satisfied: six>=1.5 in /opt/conda/lib/python3.10/site-packages (from python-dateutil<3.0.0,>=2.1->botocore<1.30.0,>=1.29.100->boto3) (1.16.0)\n",
          "output_type": "stream"
        }
      ]
    },
    {
      "cell_type": "markdown",
      "source": [
        "그 후, 우리가 사용하는 DistilBERT pre-training 때 사용한 tokenizer를 불러옵니다."
      ],
      "metadata": {
        "id": "6YP3FxG9IF7O"
      }
    },
    {
      "cell_type": "code",
      "source": [
        "import torch\n",
        "from datasets import load_dataset\n",
        "from torch.utils.data import DataLoader\n",
        "from transformers import AutoTokenizer\n",
        "\n",
        "# tokenizer = torch.hub.load('huggingface/pytorch-transformers', 'tokenizer', 'openai-gpt') # distilbert-base-uncased로 설정한 tokenizer와 encoder를 openai-gpt로 변경\n",
        "tokenizer = AutoTokenizer.from_pretrained(\"openai-gpt\", clean_up_tokenization_spaces=True)\n",
        "\n",
        "tokenizer.pad_token = tokenizer.unk_token #GPT의 tokenizer는 padding token이 없어, 다음 코드로 padding token을 추가"
      ],
      "metadata": {
        "id": "6lGiZUoPby6e",
        "execution": {
          "iopub.status.busy": "2024-10-02T14:03:20.884917Z",
          "iopub.execute_input": "2024-10-02T14:03:20.885847Z",
          "iopub.status.idle": "2024-10-02T14:03:21.134439Z",
          "shell.execute_reply.started": "2024-10-02T14:03:20.885797Z",
          "shell.execute_reply": "2024-10-02T14:03:21.133588Z"
        },
        "trusted": true
      },
      "execution_count": null,
      "outputs": []
    },
    {
      "cell_type": "markdown",
      "source": [
        "DistilBERT의 tokenizer를 불러왔으면 이제 `collate_fn`과 data loader를 정의합니다. 이 과정은 이전 실습과 동일하게 다음과 같이 구현할 수 있습니다."
      ],
      "metadata": {
        "id": "Cvfl_uFLIMWO"
      }
    },
    {
      "cell_type": "code",
      "source": [
        "ds = load_dataset(\"fancyzhx/ag_news\")\n",
        "\n",
        "\n",
        "def collate_fn(batch):\n",
        "  max_len = 400\n",
        "  texts, labels = [], []\n",
        "  for row in batch:\n",
        "    labels.append(row['label'])\n",
        "    texts.append(row['text'])\n",
        "\n",
        "  texts = torch.LongTensor(tokenizer(texts, padding=True,  max_length=max_len).input_ids) #Truncation과 관련된 부분들을 지움\n",
        "  labels = torch.LongTensor(labels)\n",
        "\n",
        "  return texts, labels\n",
        "\n",
        "\n",
        "train_loader = DataLoader(\n",
        "    ds['train'], batch_size=64, shuffle=True, collate_fn=collate_fn\n",
        ")\n",
        "test_loader = DataLoader(\n",
        "    ds['test'], batch_size=64, shuffle=False, collate_fn=collate_fn\n",
        ")"
      ],
      "metadata": {
        "id": "rE-y8sY9HuwP",
        "execution": {
          "iopub.status.busy": "2024-10-02T14:03:21.135631Z",
          "iopub.execute_input": "2024-10-02T14:03:21.135954Z",
          "iopub.status.idle": "2024-10-02T14:03:22.261177Z",
          "shell.execute_reply.started": "2024-10-02T14:03:21.13592Z",
          "shell.execute_reply": "2024-10-02T14:03:22.260367Z"
        },
        "trusted": true
      },
      "execution_count": null,
      "outputs": []
    },
    {
      "cell_type": "markdown",
      "source": [
        "이제 pre-trained DistilBERT를 불러옵니다. 이번에는 PyTorch hub에서 제공하는 DistilBERT를 불러봅시다."
      ],
      "metadata": {
        "id": "bF34XkoYIeEm"
      }
    },
    {
      "cell_type": "code",
      "source": [
        "model = torch.hub.load('huggingface/pytorch-transformers', 'model', 'openai-gpt')\n",
        "model"
      ],
      "metadata": {
        "colab": {
          "base_uri": "https://localhost:8080/"
        },
        "id": "HJaUp2Vob0U-",
        "outputId": "8fe8f751-a315-48a6-f4b3-72d3d5552a7f",
        "execution": {
          "iopub.status.busy": "2024-10-02T14:03:22.263167Z",
          "iopub.execute_input": "2024-10-02T14:03:22.263469Z",
          "iopub.status.idle": "2024-10-02T14:03:23.186997Z",
          "shell.execute_reply.started": "2024-10-02T14:03:22.263437Z",
          "shell.execute_reply": "2024-10-02T14:03:23.18604Z"
        },
        "trusted": true
      },
      "execution_count": null,
      "outputs": [
        {
          "name": "stderr",
          "text": "Using cache found in /root/.cache/torch/hub/huggingface_pytorch-transformers_main\n",
          "output_type": "stream"
        },
        {
          "execution_count": 12,
          "output_type": "execute_result",
          "data": {
            "text/plain": "OpenAIGPTModel(\n  (tokens_embed): Embedding(40478, 768)\n  (positions_embed): Embedding(512, 768)\n  (drop): Dropout(p=0.1, inplace=False)\n  (h): ModuleList(\n    (0-11): 12 x Block(\n      (attn): Attention(\n        (c_attn): Conv1D()\n        (c_proj): Conv1D()\n        (attn_dropout): Dropout(p=0.1, inplace=False)\n        (resid_dropout): Dropout(p=0.1, inplace=False)\n      )\n      (ln_1): LayerNorm((768,), eps=1e-05, elementwise_affine=True)\n      (mlp): MLP(\n        (c_fc): Conv1D()\n        (c_proj): Conv1D()\n        (act): NewGELUActivation()\n        (dropout): Dropout(p=0.1, inplace=False)\n      )\n      (ln_2): LayerNorm((768,), eps=1e-05, elementwise_affine=True)\n    )\n  )\n)"
          },
          "metadata": {}
        }
      ]
    },
    {
      "cell_type": "markdown",
      "source": [
        "# Classify 할 때 사용하는 token representation 변경\n",
        "  - 현재 `TextClassifier`는 첫 번째 token의 representation으로 label을 예측하고 있습니다.\n",
        "  - 하지만 GPT의 pre-train 방식을 생각하면 첫 번째 token으로 label을 예측하면 안됩니다.\n",
        "  - GPT의 pre-train 방식과 이전 RNN 실습에서 아이디어를 얻어 classify를 할 때 사용하는 token representation을 적절하게 변경하시면 됩니다."
      ],
      "metadata": {
        "id": "uh-tqY8WInQt"
      }
    },
    {
      "cell_type": "code",
      "source": [
        "from torch import nn\n",
        "\n",
        "\n",
        "class TextClassifier(nn.Module):\n",
        "  def __init__(self):\n",
        "    super().__init__()\n",
        "\n",
        "    self.encoder = torch.hub.load('huggingface/pytorch-transformers', 'model', 'openai-gpt')\n",
        "    self.classifier = nn.Linear(768, 4)\n",
        "\n",
        "  def forward(self, x):\n",
        "    x = self.encoder(x)['last_hidden_state']\n",
        "    x = self.classifier(x[:, -1]) # 마지막토큰의 representation 사용\n",
        "\n",
        "    return x\n",
        "\n",
        "\n",
        "model = TextClassifier()"
      ],
      "metadata": {
        "colab": {
          "base_uri": "https://localhost:8080/"
        },
        "id": "xW7ETZQzzNp2",
        "outputId": "afa8e45d-3160-44b7-be8d-c6f72999d521",
        "execution": {
          "iopub.status.busy": "2024-10-02T14:03:23.188375Z",
          "iopub.execute_input": "2024-10-02T14:03:23.189009Z",
          "iopub.status.idle": "2024-10-02T14:03:23.430116Z",
          "shell.execute_reply.started": "2024-10-02T14:03:23.188966Z",
          "shell.execute_reply": "2024-10-02T14:03:23.429196Z"
        },
        "trusted": true
      },
      "execution_count": null,
      "outputs": [
        {
          "name": "stderr",
          "text": "Using cache found in /root/.cache/torch/hub/huggingface_pytorch-transformers_main\n",
          "output_type": "stream"
        }
      ]
    },
    {
      "cell_type": "code",
      "source": [
        "for param in model.encoder.parameters():\n",
        "  param.requires_grad = False"
      ],
      "metadata": {
        "id": "uyTciaPZ0KYo",
        "execution": {
          "iopub.status.busy": "2024-10-02T14:03:23.431159Z",
          "iopub.execute_input": "2024-10-02T14:03:23.431457Z",
          "iopub.status.idle": "2024-10-02T14:03:23.436852Z",
          "shell.execute_reply.started": "2024-10-02T14:03:23.431424Z",
          "shell.execute_reply": "2024-10-02T14:03:23.435946Z"
        },
        "trusted": true
      },
      "execution_count": null,
      "outputs": []
    },
    {
      "cell_type": "code",
      "source": [
        "def accuracy(model, dataloader):\n",
        "  cnt = 0\n",
        "  acc = 0\n",
        "\n",
        "  for data in dataloader:\n",
        "    inputs, labels = data\n",
        "    inputs, labels = inputs.to('cuda'), labels.to('cuda')\n",
        "\n",
        "    preds = model(inputs)\n",
        "    preds = torch.argmax(preds, dim=-1) # argmax를 사용하여 예측 클래스 계산\n",
        "\n",
        "\n",
        "    cnt += labels.shape[0]\n",
        "    acc += (labels == preds).sum().item()\n",
        "\n",
        "  return acc / cnt\n",
        "\n",
        "def plot_acc(train_accs, test_accs, label1='train', label2='test'):\n",
        "  x = np.arange(len(train_accs))\n",
        "\n",
        "  plt.plot(x, train_accs, label=label1)\n",
        "  plt.plot(x, test_accs, label=label2)\n",
        "  plt.legend()\n",
        "  plt.show()"
      ],
      "metadata": {
        "id": "azXe3KG0bT0N",
        "execution": {
          "iopub.status.busy": "2024-10-02T14:03:23.438096Z",
          "iopub.execute_input": "2024-10-02T14:03:23.438366Z",
          "iopub.status.idle": "2024-10-02T14:03:23.446451Z",
          "shell.execute_reply.started": "2024-10-02T14:03:23.438336Z",
          "shell.execute_reply": "2024-10-02T14:03:23.445589Z"
        },
        "trusted": true
      },
      "execution_count": 2,
      "outputs": []
    },
    {
      "cell_type": "code",
      "source": [
        "from torch.optim import Adam\n",
        "import numpy as np\n",
        "import matplotlib.pyplot as plt\n",
        "\n",
        "\n",
        "lr = 0.001\n",
        "model = model.to('cuda')\n",
        "loss_fn = nn.CrossEntropyLoss() # nn.CrossEntropyLoss()로 변경\n",
        "\n",
        "optimizer = Adam(model.parameters(), lr=lr)\n",
        "n_epochs = 10\n",
        "train_accs, test_accs = [], []\n",
        "\n",
        "for epoch in range(n_epochs):\n",
        "  total_loss = 0.\n",
        "  model.train()\n",
        "  for data in train_loader:\n",
        "    model.zero_grad()\n",
        "    inputs, labels = data\n",
        "    inputs, labels = inputs.to('cuda'), labels.to('cuda')\n",
        "\n",
        "    preds = model(inputs)\n",
        "    loss = loss_fn(preds, labels)\n",
        "    loss.backward()\n",
        "    optimizer.step()\n",
        "\n",
        "    total_loss += loss.item()\n",
        "\n",
        "  print(f\"Epoch {epoch:3d} | Train Loss: {total_loss}\")\n",
        "\n",
        "  with torch.no_grad():\n",
        "    model.eval()\n",
        "    train_acc = accuracy(model, train_loader)\n",
        "    test_acc = accuracy(model, test_loader)\n",
        "\n",
        "    print(f\"=========> Train acc: {train_acc:.3f} | Test acc: {test_acc:.3f}\")\n",
        "\n",
        "plot_acc(train_accs, test_accs)"
      ],
      "metadata": {
        "id": "XvvaAEwCznt-",
        "execution": {
          "iopub.status.busy": "2024-10-02T14:03:23.447405Z",
          "iopub.execute_input": "2024-10-02T14:03:23.448018Z",
          "iopub.status.idle": "2024-10-02T17:16:25.70403Z",
          "shell.execute_reply.started": "2024-10-02T14:03:23.447985Z",
          "shell.execute_reply": "2024-10-02T17:16:25.703066Z"
        },
        "trusted": true,
        "outputId": "ea2d07ed-45ff-40e0-a025-c63772ac41e5"
      },
      "execution_count": null,
      "outputs": [
        {
          "name": "stderr",
          "text": "/opt/conda/lib/python3.10/site-packages/transformers/tokenization_utils_base.py:2888: UserWarning: `max_length` is ignored when `padding`=`True` and there is no truncation strategy. To pad to max length, use `padding='max_length'`.\n  warnings.warn(\n",
          "output_type": "stream"
        },
        {
          "name": "stdout",
          "text": "Epoch   0 | Train Loss: 1322.4538359344006\n=========> Train acc: 0.831 | Test acc: 0.828\nEpoch   1 | Train Loss: 1111.076494961977\n=========> Train acc: 0.836 | Test acc: 0.831\nEpoch   2 | Train Loss: 1086.1763862669468\n=========> Train acc: 0.843 | Test acc: 0.839\nEpoch   3 | Train Loss: 1074.8560039252043\n=========> Train acc: 0.832 | Test acc: 0.830\nEpoch   4 | Train Loss: 1065.0927681922913\n=========> Train acc: 0.827 | Test acc: 0.827\nEpoch   5 | Train Loss: 1063.9000805616379\n=========> Train acc: 0.840 | Test acc: 0.838\nEpoch   6 | Train Loss: 1061.409768357873\n=========> Train acc: 0.842 | Test acc: 0.838\nEpoch   7 | Train Loss: 1059.170365959406\n=========> Train acc: 0.836 | Test acc: 0.834\nEpoch   8 | Train Loss: 1054.6754803955555\n=========> Train acc: 0.846 | Test acc: 0.844\nEpoch   9 | Train Loss: 1057.946958899498\n=========> Train acc: 0.834 | Test acc: 0.831\n",
          "output_type": "stream"
        },
        {
          "output_type": "display_data",
          "data": {
            "text/plain": "<Figure size 640x480 with 1 Axes>",
            "image/png": "[encoded data removed]"
          },
          "metadata": {}
        }
      ]
    },
    {
      "cell_type": "markdown",
      "source": [
        "# 결과값 그래프 출력 추가"
      ],
      "metadata": {
        "id": "cNWWoNK3eDEH"
      }
    },
    {
      "cell_type": "code",
      "source": [
        "'''\n",
        "Epoch   0 | Train Loss: 1322.4538359344006\n",
        "=========> Train acc: 0.831 | Test acc: 0.828\n",
        "Epoch   1 | Train Loss: 1111.076494961977\n",
        "=========> Train acc: 0.836 | Test acc: 0.831\n",
        "Epoch   2 | Train Loss: 1086.1763862669468\n",
        "=========> Train acc: 0.843 | Test acc: 0.839\n",
        "Epoch   3 | Train Loss: 1074.8560039252043\n",
        "=========> Train acc: 0.832 | Test acc: 0.830\n",
        "Epoch   4 | Train Loss: 1065.0927681922913\n",
        "=========> Train acc: 0.827 | Test acc: 0.827\n",
        "Epoch   5 | Train Loss: 1063.9000805616379\n",
        "=========> Train acc: 0.840 | Test acc: 0.838\n",
        "Epoch   6 | Train Loss: 1061.409768357873\n",
        "=========> Train acc: 0.842 | Test acc: 0.838\n",
        "Epoch   7 | Train Loss: 1059.170365959406\n",
        "=========> Train acc: 0.836 | Test acc: 0.834\n",
        "Epoch   8 | Train Loss: 1054.6754803955555\n",
        "=========> Train acc: 0.846 | Test acc: 0.844\n",
        "Epoch   9 | Train Loss: 1057.946958899498\n",
        "=========> Train acc: 0.834 | Test acc: 0.831\n",
        "'''\n",
        "\n",
        "import numpy as np\n",
        "import matplotlib.pyplot as plt\n",
        "train_accs, test_accs, train_loss = [], [].[]\n",
        "\n",
        "def plot_acc(train_accs, test_accs, train_loss, label1='train', label2='test', label3='train_loss'):\n",
        "  x = np.arange(len(train_accs))\n",
        "\n",
        "  plt.plot(x, train_accs, label=label1)\n",
        "  # plt.plot(x, test_accs, label=label2)\n",
        "  # plt.plot(x, test_accs, label=label2)\n",
        "\n",
        "  plt.legend()\n",
        "  plt.show()\n",
        "\n",
        "\n",
        "test_accs.append(0.828)\n",
        "test_accs.append(0.831)\n",
        "test_accs.append(0.839)\n",
        "test_accs.append(0.830)\n",
        "test_accs.append(0.827)\n",
        "test_accs.append(0.838)\n",
        "test_accs.append(0.838)\n",
        "test_accs.append(0.834)\n",
        "test_accs.append(0.844)\n",
        "test_accs.append(0.831)\n",
        "\n",
        "train_accs.append(0.831)\n",
        "train_accs.append(0.836)\n",
        "train_accs.append(0.843)\n",
        "train_accs.append(0.832)\n",
        "train_accs.append(0.827)\n",
        "train_accs.append(0.840)\n",
        "train_accs.append(0.842)\n",
        "train_accs.append(0.836)\n",
        "train_accs.append(0.846)\n",
        "train_accs.append(0.834)\n",
        "\n",
        "plot_acc(train_accs, test_accs)\n",
        "\n",
        "\n"
      ],
      "metadata": {
        "colab": {
          "base_uri": "https://localhost:8080/",
          "height": 430
        },
        "id": "SdznxAyebRY5",
        "outputId": "310e365c-d555-458d-f87c-0cb2b3b93b10"
      },
      "execution_count": 5,
      "outputs": [
        {
          "output_type": "display_data",
          "data": {
            "text/plain": [
              "<Figure size 640x480 with 1 Axes>"
            ],
            "image/png": "[encoded data removed]"
          },
          "metadata": {}
        }
      ]
    },
    {
      "cell_type": "markdown",
      "source": [
        "Loss가 잘 떨어지고, 이전에 우리가 구현한 Transformer보다 더 빨리 수렴하는 것을 알 수 있습니다."
      ],
      "metadata": {
        "id": "rfFUkEM1ZWeG"
      }
    }
  ]
}